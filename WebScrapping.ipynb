{
 "cells": [
  {
   "cell_type": "code",
   "execution_count": null,
   "id": "912da310",
   "metadata": {},
   "outputs": [],
   "source": [
    "import requests\n",
    "from bs4 import BeautifulSoup\n",
    "import csv\n",
    "import tkinter as tk\n",
    "from tkinter import filedialog, messagebox\n",
    "\n",
    "class FlipkartScraper:\n",
    "    def __init__(self, root):\n",
    "        self.root = root\n",
    "        self.root.title(\"Flipkart Scraper\")\n",
    "\n",
    "        self.create_widgets()\n",
    "\n",
    "    def create_widgets(self):\n",
    "        self.label_url = tk.Label(self.root, text=\"Enter Flipkart Product URL:\")\n",
    "        self.entry_url = tk.Entry(self.root, width=50)\n",
    "        self.label_url.grid(row=0, column=0, padx=10, pady=5, sticky=tk.E)\n",
    "        self.entry_url.grid(row=0, column=1, padx=10, pady=5, columnspan=2, sticky=tk.W)\n",
    "\n",
    "        self.button_scrape = tk.Button(self.root, text=\"Scrape Product Info\", command=self.scrape)\n",
    "        self.button_scrape.grid(row=1, column=0, columnspan=3, pady=10)\n",
    "\n",
    "    def scrape(self):\n",
    "        product_url = self.entry_url.get()\n",
    "        if not product_url:\n",
    "            messagebox.showerror(\"Error\", \"Please enter a valid Flipkart product URL.\")\n",
    "            return\n",
    "\n",
    "        try:\n",
    "            response = requests.get(product_url)\n",
    "            soup = BeautifulSoup(response.content, 'html.parser')\n",
    "\n",
    "            product_name = soup.find('span', {'class': '_35KyD6'}).get_text(strip=True)\n",
    "            product_price = soup.find('div', {'class': '_1vC4OE _3qQ9m1'}).get_text(strip=True)\n",
    "            product_rating = soup.find('div', {'class': '_1i0wk8'}).get_text(strip=True)\n",
    "\n",
    "            self.save_to_csv(product_name, product_price, product_rating)\n",
    "\n",
    "        except Exception as e:\n",
    "            messagebox.showerror(\"Error\", f\"An error occurred: {e}\")\n",
    "\n",
    "    def save_to_csv(self, name, price, rating):\n",
    "        file_path = filedialog.asksaveasfilename(defaultextension=\".csv\", filetypes=[(\"CSV Files\", \"*.csv\")])\n",
    "        if file_path:\n",
    "            with open(file_path, 'w', newline='', encoding='utf-8') as file:\n",
    "                writer = csv.writer(file)\n",
    "                writer.writerow(['Name', 'Price', 'Rating'])\n",
    "                writer.writerow([name, price, rating])\n",
    "\n",
    "# Create the main window\n",
    "root = tk.Tk()\n",
    "app = FlipkartScraper(root)\n",
    "root.mainloop()"
   ]
  },
  {
   "cell_type": "code",
   "execution_count": null,
   "id": "83b28ff5",
   "metadata": {},
   "outputs": [],
   "source": []
  },
  {
   "cell_type": "code",
   "execution_count": null,
   "id": "a8234883",
   "metadata": {},
   "outputs": [],
   "source": []
  }
 ],
 "metadata": {
  "kernelspec": {
   "display_name": "Python 3 (ipykernel)",
   "language": "python",
   "name": "python3"
  },
  "language_info": {
   "codemirror_mode": {
    "name": "ipython",
    "version": 3
   },
   "file_extension": ".py",
   "mimetype": "text/x-python",
   "name": "python",
   "nbconvert_exporter": "python",
   "pygments_lexer": "ipython3",
   "version": "3.10.9"
  }
 },
 "nbformat": 4,
 "nbformat_minor": 5
}
